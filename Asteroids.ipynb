{
 "metadata": {
  "name": "Asteroids"
 },
 "nbformat": 3,
 "nbformat_minor": 0,
 "worksheets": [
  {
   "cells": [
    {
     "cell_type": "code",
     "collapsed": false,
     "input": [
      "%pylab inline"
     ],
     "language": "python",
     "metadata": {},
     "outputs": []
    },
    {
     "cell_type": "code",
     "collapsed": false,
     "input": [
      "import ephem\n",
      "import gzip\n",
      "\n",
      "tau = pi * 2.0"
     ],
     "language": "python",
     "metadata": {},
     "outputs": []
    },
    {
     "cell_type": "code",
     "collapsed": false,
     "input": [
      "f = gzip.open('data/ELEMENTS.NUMBR.gz')\n",
      "lines = iter(f)\n",
      "header = next(lines)\n",
      "dashes = next(lines)\n",
      "\n",
      "bodies = []\n",
      "\n",
      "for line in f:\n",
      "    # print line\n",
      "    fields = line[24:].split()\n",
      "    b = ephem.EllipticalBody()\n",
      "    b._epoch = int(fields[0])\n",
      "    b._a = float(fields[1])\n",
      "    b._e = float(fields[2])\n",
      "    b._inc = float(fields[3])\n",
      "    b._om = float(fields[4])\n",
      "    b._epoch_M = float(fields[5]) #?\n",
      "    # a._h = float(fields[6]) #?\n",
      "    b._g = float(fields[7]) #?\n",
      "    bodies.append(b)\n",
      "    \n",
      "print 'Loaded', len(bodies), 'asteroids'"
     ],
     "language": "python",
     "metadata": {},
     "outputs": []
    },
    {
     "cell_type": "code",
     "collapsed": false,
     "input": [
      "def compute_asteroid_positions(mjd):\n",
      "    for b in bodies:\n",
      "        b.compute(mjd)\n",
      "    theta = np.array([ b.hlon for b in bodies ])\n",
      "    r = np.array([ b.sun_distance for b in bodies ])\n",
      "    return theta, r"
     ],
     "language": "python",
     "metadata": {},
     "outputs": []
    },
    {
     "cell_type": "code",
     "collapsed": false,
     "input": [
      "mjd = ephem.Date('2013/1/11 15:45')\n",
      "theta, r = compute_asteroid_positions(mjd)\n",
      "\n",
      "print 'First asteroid is at angle', theta[0]\n",
      "print 'and at distance', r[0], 'AU from the Sun'"
     ],
     "language": "python",
     "metadata": {},
     "outputs": []
    },
    {
     "cell_type": "code",
     "collapsed": false,
     "input": [
      "subplot = figure().add_subplot(111, polar=True)\n",
      "subplot.scatter(theta, r, s=1.0)\n",
      "subplot.axis([0.0,tau, 0.0, 7.0])"
     ],
     "language": "python",
     "metadata": {},
     "outputs": []
    },
    {
     "cell_type": "code",
     "collapsed": false,
     "input": [],
     "language": "python",
     "metadata": {},
     "outputs": []
    }
   ],
   "metadata": {}
  }
 ]
}