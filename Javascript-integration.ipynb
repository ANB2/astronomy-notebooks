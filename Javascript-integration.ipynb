{
 "metadata": {
  "name": ""
 },
 "nbformat": 3,
 "nbformat_minor": 0,
 "worksheets": [
  {
   "cells": [
    {
     "cell_type": "markdown",
     "metadata": {},
     "source": [
      "At first glance there appear to be at least four mechanisms\n",
      "for adding JavaScript code to an IPython notebook:\n",
      "    \n",
      "* A notebook cell marked `%%javascript`\n",
      "* A Markdown cell with a `<script>` inside\n",
      "* An `HTML()` display with a `<script>` inside\n",
      "* A `JavaScript()` display with code inside\n",
      "\n",
      "Here are examples of all four possibilities:"
     ]
    },
    {
     "cell_type": "code",
     "collapsed": false,
     "input": [
      "%%javascript\n",
      "\n",
      "console.log('Log message from the %%javascript cell')"
     ],
     "language": "python",
     "metadata": {},
     "outputs": [
      {
       "javascript": [
        "\n",
        "console.log('Log message from the %%javascript cell')"
       ],
       "metadata": {},
       "output_type": "display_data",
       "text": [
        "<IPython.core.display.Javascript at 0x8f5bacc>"
       ]
      }
     ],
     "prompt_number": 1
    },
    {
     "cell_type": "markdown",
     "metadata": {},
     "source": [
      "*(Markdown cell with a `<script>` inside.)*\n",
      "<script>console.log('Log message from the Markdown cell')</script>"
     ]
    },
    {
     "cell_type": "code",
     "collapsed": false,
     "input": [
      "from IPython.display import HTML\n",
      "HTML('<script>console.log(\"Log message from an HTML display\")</script>')"
     ],
     "language": "python",
     "metadata": {},
     "outputs": [
      {
       "html": [
        "<script>console.log(\"Log message from an HTML display\")</script>"
       ],
       "metadata": {},
       "output_type": "pyout",
       "prompt_number": 2,
       "text": [
        "<IPython.core.display.HTML at 0x8f5be0c>"
       ]
      }
     ],
     "prompt_number": 2
    },
    {
     "cell_type": "code",
     "collapsed": false,
     "input": [
      "from IPython.display import Javascript\n",
      "Javascript('console.log(\"Log message from a Javascript display\")')"
     ],
     "language": "python",
     "metadata": {},
     "outputs": [
      {
       "javascript": [
        "console.log(\"Log message from a Javascript display\")"
       ],
       "metadata": {},
       "output_type": "pyout",
       "prompt_number": 3,
       "text": [
        "<IPython.core.display.Javascript at 0x8f5b32c>"
       ]
      }
     ],
     "prompt_number": 3
    },
    {
     "cell_type": "markdown",
     "metadata": {},
     "source": [
      "By checking your JavaScript console\n",
      "while viewing this notebook,\n",
      "you can determine which of these four mechanisms fires\n",
      "when the static notebook is displayed later."
     ]
    }
   ],
   "metadata": {}
  }
 ]
}