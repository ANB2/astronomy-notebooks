{
 "metadata": {
  "name": "3D Solar System"
 },
 "nbformat": 3,
 "nbformat_minor": 0,
 "worksheets": [
  {
   "cells": [
    {
     "cell_type": "code",
     "collapsed": false,
     "input": [
      "%pylab wx"
     ],
     "language": "python",
     "metadata": {},
     "outputs": []
    },
    {
     "cell_type": "code",
     "collapsed": false,
     "input": [
      "from mayavi import mlab\n",
      "\n",
      "planet_color = (0.7, 1.0, 1.0)\n",
      "yellow = (1.0, 1.0, 0.0)"
     ],
     "language": "python",
     "metadata": {},
     "outputs": []
    },
    {
     "cell_type": "markdown",
     "metadata": {},
     "source": [
      "## Load the planetary ephemeris\n",
      "\n",
      "These JPL-produced data sets predict where each planet will be located at a given date and time."
     ]
    },
    {
     "cell_type": "code",
     "collapsed": false,
     "input": [
      "from sgp4.ext import jday\n",
      "\n",
      "jd = jday(1980, 6, 1, 0, 0, 0)\n",
      "print 'Julian day of 1980.6.1 was:', jd"
     ],
     "language": "python",
     "metadata": {},
     "outputs": []
    },
    {
     "cell_type": "code",
     "collapsed": false,
     "input": [
      "import de405\n",
      "from jplephem import Ephemeris\n",
      "\n",
      "eph = Ephemeris(de405)\n",
      "\n",
      "print 'Position xyz and velocity xyz of Mars on 1980.06.01:'\n",
      "print eph.compute('mars', jd)"
     ],
     "language": "python",
     "metadata": {},
     "outputs": []
    },
    {
     "cell_type": "markdown",
     "metadata": {},
     "source": [
      "## Draw the Solar System"
     ]
    },
    {
     "cell_type": "code",
     "collapsed": false,
     "input": [
      "mlab.clf()"
     ],
     "language": "python",
     "metadata": {},
     "outputs": []
    },
    {
     "cell_type": "code",
     "collapsed": false,
     "input": [
      "def view_from_above(focalpoint=(0.0, 0.0, 0.0)):\n",
      "    \"\"\"Move the camera above the solar system.\"\"\"\n",
      "\n",
      "    mlab.view(azimuth=90.0, elevation=360.0 - 23.4,\n",
      "              distance=5e9, focalpoint=focalpoint)"
     ],
     "language": "python",
     "metadata": {},
     "outputs": []
    },
    {
     "cell_type": "code",
     "collapsed": false,
     "input": [
      "view_from_above()"
     ],
     "language": "python",
     "metadata": {},
     "outputs": []
    },
    {
     "cell_type": "code",
     "collapsed": false,
     "input": [
      "year = np.linspace(jd, jd + 365, 366)"
     ],
     "language": "python",
     "metadata": {},
     "outputs": []
    },
    {
     "cell_type": "code",
     "collapsed": false,
     "input": [
      "def draw_orbit(position):\n",
      "    mlab.plot3d(position[0], position[1], position[2],\n",
      "                color=planet_color,\n",
      "                tube_radius=None, line_width=2.0)"
     ],
     "language": "python",
     "metadata": {},
     "outputs": []
    },
    {
     "cell_type": "code",
     "collapsed": false,
     "input": [
      "def plot_orbits(planets, julian_days):\n",
      "    for planet in planets:\n",
      "        pvlist = [ eph.compute(planet, j) for j in julian_days ]\n",
      "        pv = np.array(pvlist).T\n",
      "        draw_orbit(pv)\n",
      "        print 'For', planet, 'plotted', pv.shape, 'points'"
     ],
     "language": "python",
     "metadata": {},
     "outputs": []
    },
    {
     "cell_type": "code",
     "collapsed": false,
     "input": [
      "plot_orbits(['mercury', 'venus', 'earthmoon', 'mars', 'jupiter', 'saturn'], year)"
     ],
     "language": "python",
     "metadata": {},
     "outputs": []
    },
    {
     "cell_type": "code",
     "collapsed": false,
     "input": [
      "view_from_above()"
     ],
     "language": "python",
     "metadata": {},
     "outputs": []
    },
    {
     "cell_type": "markdown",
     "metadata": {},
     "source": [
      "## Add the Sun"
     ]
    },
    {
     "cell_type": "code",
     "collapsed": false,
     "input": [
      "sun_r = 695500.0  # km\n",
      "\n",
      "sphere = mlab.points3d(0, 0, 0, name='Sun',\n",
      "      scale_mode='none', scale_factor=sun_r * 2.0,\n",
      "      color=yellow, resolution=50)"
     ],
     "language": "python",
     "metadata": {},
     "outputs": []
    },
    {
     "cell_type": "code",
     "collapsed": false,
     "input": [
      "view_from_above()"
     ],
     "language": "python",
     "metadata": {},
     "outputs": []
    },
    {
     "cell_type": "markdown",
     "metadata": {},
     "source": [
      "## Add the Earth"
     ]
    },
    {
     "cell_type": "code",
     "collapsed": false,
     "input": [
      "from mayavi.sources.builtin_surface import BuiltinSurface\n",
      "from sgp4.earth_gravity import wgs72\n",
      "\n",
      "ocean_blue = (0.4, 0.5, 1.0)\n",
      "r = wgs72.radiusearthkm\n",
      "\n",
      "def draw_globe(xyz):\n",
      "    sphere = mlab.points3d(*xyz, name='Globe',\n",
      "      scale_mode='none', scale_factor=r * 2.0,\n",
      "      color=ocean_blue, resolution=50)\n",
      "\n",
      "    sphere.actor.property.specular = 0.20\n",
      "    sphere.actor.property.specular_power = 10"
     ],
     "language": "python",
     "metadata": {},
     "outputs": []
    },
    {
     "cell_type": "code",
     "collapsed": false,
     "input": [
      "pv = eph.compute('earthmoon', jd)\n",
      "xyz = pv[:3]\n",
      "\n",
      "print 'Earth xyz:', xyz\n",
      "\n",
      "draw_globe(xyz)"
     ],
     "language": "python",
     "metadata": {},
     "outputs": []
    },
    {
     "cell_type": "code",
     "collapsed": false,
     "input": [
      "view_from_above(xyz)"
     ],
     "language": "python",
     "metadata": {},
     "outputs": []
    },
    {
     "cell_type": "code",
     "collapsed": false,
     "input": [],
     "language": "python",
     "metadata": {},
     "outputs": []
    }
   ],
   "metadata": {}
  }
 ]
}