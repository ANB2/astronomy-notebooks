{
 "metadata": {
  "name": "3D Solar System"
 },
 "nbformat": 3,
 "nbformat_minor": 0,
 "worksheets": [
  {
   "cells": [
    {
     "cell_type": "code",
     "collapsed": false,
     "input": [
      "%pylab wx"
     ],
     "language": "python",
     "metadata": {},
     "outputs": []
    },
    {
     "cell_type": "code",
     "collapsed": false,
     "input": [
      "import numpy as np\n",
      "from mayavi import mlab\n",
      "\n",
      "planet_color = (0.7, 1.0, 1.0)"
     ],
     "language": "python",
     "metadata": {},
     "outputs": []
    },
    {
     "cell_type": "markdown",
     "metadata": {},
     "source": [
      "## Load the planetary ephemeris\n",
      "\n",
      "These JPL-produced data sets predict where each planet will be located at a given date and time."
     ]
    },
    {
     "cell_type": "code",
     "collapsed": false,
     "input": [
      "from sgp4.ext import jday\n",
      "\n",
      "jd = jday(1980, 6, 1, 0, 0, 0)\n",
      "print 'Julian day of 1980.6.1 was:', jd"
     ],
     "language": "python",
     "metadata": {},
     "outputs": []
    },
    {
     "cell_type": "code",
     "collapsed": false,
     "input": [
      "import de421\n",
      "from jplephem import Ephemeris\n",
      "\n",
      "eph = Ephemeris(de421)\n",
      "\n",
      "print 'Position xyz and velocity xyz of Mars on 1980.06.01:'\n",
      "print eph.compute('mars', jd)"
     ],
     "language": "python",
     "metadata": {},
     "outputs": []
    },
    {
     "cell_type": "markdown",
     "metadata": {},
     "source": [
      "## Draw the Solar System"
     ]
    },
    {
     "cell_type": "code",
     "collapsed": false,
     "input": [
      "mlab.clf()"
     ],
     "language": "python",
     "metadata": {},
     "outputs": []
    },
    {
     "cell_type": "code",
     "collapsed": false,
     "input": [
      "def view_from_above():\n",
      "    \"\"\"Move the camera above the solar system.\"\"\"\n",
      "\n",
      "    mlab.view(azimuth=90.0, elevation=180.0 - 23.4, distance=5e9,\n",
      "              focalpoint=(0.0, 0.0, 0.0))"
     ],
     "language": "python",
     "metadata": {},
     "outputs": []
    },
    {
     "cell_type": "code",
     "collapsed": false,
     "input": [
      "year = np.linspace(jd, jd + 365, 366)"
     ],
     "language": "python",
     "metadata": {},
     "outputs": []
    },
    {
     "cell_type": "code",
     "collapsed": false,
     "input": [
      "def draw_orbit(position):\n",
      "    mlab.plot3d(position[0], position[1], position[2],\n",
      "                color=planet_color,\n",
      "                tube_radius=None, line_width=2.0)"
     ],
     "language": "python",
     "metadata": {},
     "outputs": []
    },
    {
     "cell_type": "code",
     "collapsed": false,
     "input": [
      "def plot_orbits(planets, julian_days):\n",
      "    for planet in planets:\n",
      "        pv = np.array([ eph.compute(planet, j) for j in julian_days ]).T\n",
      "        draw_orbit(pv)\n",
      "        print 'For', planet, 'plotted', pv.shape, 'points'"
     ],
     "language": "python",
     "metadata": {},
     "outputs": []
    },
    {
     "cell_type": "code",
     "collapsed": false,
     "input": [
      "plot_orbits(['mercury', 'venus', 'earthmoon', 'mars', 'jupiter', 'saturn'], year)"
     ],
     "language": "python",
     "metadata": {},
     "outputs": []
    },
    {
     "cell_type": "code",
     "collapsed": false,
     "input": [
      "reset_view()"
     ],
     "language": "python",
     "metadata": {},
     "outputs": []
    },
    {
     "cell_type": "markdown",
     "metadata": {},
     "source": [
      "## Displaying a full orbit for each planet\n",
      "\n",
      "During a single Earth year,\n",
      "the inner planets each complete more than one revolution,\n",
      "while outer planets like Jupiter and Saturn\n",
      "have only make it a fraction of their way around the Sun.\n",
      "What if we want to show one complete orbit for each planet?"
     ]
    },
    {
     "cell_type": "code",
     "collapsed": false,
     "input": [
      "def generate_positions_and_distances(planet, start_jd):\n",
      "    \"\"\"Takes a planet name and starting Julian date.\n",
      "\n",
      "    Generates a sequence of ([x,y,z], distance) tuples\n",
      "    giving successive positions of the named planet,\n",
      "    together with its distance from the sun.\n",
      "\n",
      "    \"\"\"\n",
      "    j = start_jd\n",
      "    while True:\n",
      "        pv = eph.compute(planet, start_jd)\n",
      "        xyz = pv[:3]\n",
      "        "
     ],
     "language": "python",
     "metadata": {},
     "outputs": []
    },
    {
     "cell_type": "code",
     "collapsed": false,
     "input": [
      "def build_full_orbit(planet, start_jd):\n",
      "    pv0 = eph.compute(planet, start_jd)\n",
      "    p0 = pv0[:3]\n",
      "    plist = []\n",
      "\n",
      "    j = start_jd\n",
      "    old = -1.0\n",
      "    new = 0.0\n",
      "\n",
      "    while new > old:\n",
      "        j += 1\n",
      "        pv = eph.compute(planet, j)\n",
      "        p = pv[:3]\n",
      "        plist.append(p)\n",
      "\n",
      "        old = new\n",
      "        pd = p - p0\n",
      "        new = np.sqrt(pd.dot(pd))\n",
      "        #print new\n",
      "    #print plist\n",
      "    return np.array(plist)"
     ],
     "language": "python",
     "metadata": {},
     "outputs": []
    },
    {
     "cell_type": "code",
     "collapsed": false,
     "input": [
      "mars = build_full_orbit('mars', jd)"
     ],
     "language": "python",
     "metadata": {},
     "outputs": []
    },
    {
     "cell_type": "code",
     "collapsed": false,
     "input": [
      "pv = mars"
     ],
     "language": "python",
     "metadata": {},
     "outputs": []
    },
    {
     "cell_type": "code",
     "collapsed": false,
     "input": [
      "mlab.plot3d(pv[0], pv[1], pv[2], color=planet_color,\n",
      "            tube_radius=None, line_width=2.0)"
     ],
     "language": "python",
     "metadata": {},
     "outputs": []
    },
    {
     "cell_type": "code",
     "collapsed": false,
     "input": [],
     "language": "python",
     "metadata": {},
     "outputs": []
    }
   ],
   "metadata": {}
  }
 ]
}