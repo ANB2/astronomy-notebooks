{
 "metadata": {
  "name": "3D Solar System"
 },
 "nbformat": 3,
 "nbformat_minor": 0,
 "worksheets": [
  {
   "cells": [
    {
     "cell_type": "code",
     "collapsed": false,
     "input": [
      "%pylab wx"
     ],
     "language": "python",
     "metadata": {},
     "outputs": []
    },
    {
     "cell_type": "code",
     "collapsed": false,
     "input": [
      "import numpy as np\n",
      "from mayavi import mlab\n",
      "\n",
      "planet_color = (0.7, 1.0, 1.0)"
     ],
     "language": "python",
     "metadata": {},
     "outputs": []
    },
    {
     "cell_type": "markdown",
     "metadata": {},
     "source": [
      "## Load the planetary ephemeris\n",
      "\n",
      "These JPL-produced data sets predict where each planet will be located at a given date and time."
     ]
    },
    {
     "cell_type": "code",
     "collapsed": false,
     "input": [
      "from sgp4.ext import jday\n",
      "\n",
      "jd = jday(1980, 6, 1, 0, 0, 0)\n",
      "print 'Julian day of 1980.6.1 was:', jd"
     ],
     "language": "python",
     "metadata": {},
     "outputs": []
    },
    {
     "cell_type": "code",
     "collapsed": false,
     "input": [
      "import de421\n",
      "from jplephem import Ephemeris\n",
      "\n",
      "eph = Ephemeris(de421)\n",
      "\n",
      "print 'Position xyz and velocity xyz of Mars on 1980.06.01:'\n",
      "print eph.compute('mars', jd)"
     ],
     "language": "python",
     "metadata": {},
     "outputs": []
    },
    {
     "cell_type": "markdown",
     "metadata": {},
     "source": [
      "## Draw the Solar System"
     ]
    },
    {
     "cell_type": "code",
     "collapsed": false,
     "input": [
      "mlab.clf()"
     ],
     "language": "python",
     "metadata": {},
     "outputs": []
    },
    {
     "cell_type": "code",
     "collapsed": false,
     "input": [
      "def view_from_above():\n",
      "    \"\"\"Move the camera above the solar system.\"\"\"\n",
      "\n",
      "    mlab.view(azimuth=90.0, elevation=180.0 - 23.4, distance=5e9,\n",
      "              focalpoint=(0.0, 0.0, 0.0))"
     ],
     "language": "python",
     "metadata": {},
     "outputs": []
    },
    {
     "cell_type": "code",
     "collapsed": false,
     "input": [
      "year = np.linspace(jd, jd + 365, 366)"
     ],
     "language": "python",
     "metadata": {},
     "outputs": []
    },
    {
     "cell_type": "code",
     "collapsed": false,
     "input": [
      "def plot_orbits(planets, julian_days):\n",
      "    for planet in planets:\n",
      "        pv = np.array([ eph.compute(planet, j) for j in julian_days ]).T\n",
      "        mlab.plot3d(pv[0], pv[1], pv[2], color=planet_color,\n",
      "                    tube_radius=None, line_width=2.0)\n",
      "        print 'For', planet, 'plotted', pv.shape, 'points'"
     ],
     "language": "python",
     "metadata": {},
     "outputs": []
    },
    {
     "cell_type": "code",
     "collapsed": false,
     "input": [
      "plot_orbits(['mercury', 'venus', 'earthmoon', 'mars', 'jupiter', 'saturn'], year)"
     ],
     "language": "python",
     "metadata": {},
     "outputs": []
    },
    {
     "cell_type": "code",
     "collapsed": false,
     "input": [
      "reset_view()"
     ],
     "language": "python",
     "metadata": {},
     "outputs": []
    },
    {
     "cell_type": "code",
     "collapsed": false,
     "input": [],
     "language": "python",
     "metadata": {},
     "outputs": []
    }
   ],
   "metadata": {}
  }
 ]
}