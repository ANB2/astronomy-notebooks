{
 "metadata": {
  "name": "Earth Satellites"
 },
 "nbformat": 3,
 "nbformat_minor": 0,
 "worksheets": [
  {
   "cells": [
    {
     "cell_type": "code",
     "collapsed": false,
     "input": [
      "import numpy as np\n",
      "from mayavi import mlab\n",
      "from sgp4.earth_gravity import wgs72\n",
      "from sgp4.io import twoline2rv\n",
      "\n",
      "ocean_blue = (0.4, 0.5, 1.0)\n",
      "yellow = (1.0, 1.0, 0.0)\n",
      "\n",
      "r = wgs72.radiusearthkm\n",
      "start_date = (2013, 1, 11, 15, 45, 0)"
     ],
     "language": "python",
     "metadata": {},
     "outputs": [],
     "prompt_number": 32
    },
    {
     "cell_type": "code",
     "collapsed": false,
     "input": [
      "satellites = []\n",
      "\n",
      "with open('data/visual.txt') as lines:\n",
      "    for name in lines:\n",
      "        line1 = next(lines)\n",
      "        line2 = next(lines)\n",
      "        satellite = twoline2rv(line1, line2, wgs72)\n",
      "        satellites.append(satellite)\n",
      "\n",
      "print 'Successfully loaded', len(satellites), 'satellites'"
     ],
     "language": "python",
     "metadata": {},
     "outputs": [
      {
       "output_type": "stream",
       "stream": "stdout",
       "text": [
        "Successfully loaded 147 satellites\n"
       ]
      }
     ],
     "prompt_number": 3
    },
    {
     "cell_type": "code",
     "collapsed": false,
     "input": [
      "def is_valid(satellite):\n",
      "    pos, vel = satellite.propagate(*start_date)\n",
      "    return pos is not None\n",
      "\n",
      "satellites = [ s for s in satellites if is_valid(s) ]\n",
      "\n",
      "print 'Kept', len(satellites), 'valid satellites'"
     ],
     "language": "python",
     "metadata": {},
     "outputs": [
      {
       "output_type": "stream",
       "stream": "stdout",
       "text": [
        "Kept 146 valid satellites\n"
       ]
      }
     ],
     "prompt_number": 4
    },
    {
     "cell_type": "code",
     "collapsed": false,
     "input": [
      "def compute_satellite_positions(*args):\n",
      "    poslist = []\n",
      "    for satellite in list(satellites):\n",
      "        pos, vel = satellite.propagate(*args)\n",
      "        poslist.append(pos)\n",
      "\n",
      "    return np.array(poslist).T"
     ],
     "language": "python",
     "metadata": {},
     "outputs": [],
     "prompt_number": 5
    },
    {
     "cell_type": "code",
     "collapsed": false,
     "input": [
      "mlab.clf()"
     ],
     "language": "python",
     "metadata": {},
     "outputs": [],
     "prompt_number": 37
    },
    {
     "cell_type": "code",
     "collapsed": false,
     "input": [
      "sphere = mlab.points3d(0, 0, 0, name='Globe',\n",
      "    scale_mode='none', scale_factor=r * 2.0,\n",
      "    color=ocean_blue, resolution=50)\n",
      "\n",
      "sphere.actor.property.specular = 0.20\n",
      "sphere.actor.property.specular_power = 10"
     ],
     "language": "python",
     "metadata": {},
     "outputs": [],
     "prompt_number": 38
    },
    {
     "cell_type": "code",
     "collapsed": false,
     "input": [
      "from mayavi.sources.builtin_surface import BuiltinSurface\n",
      "\n",
      "continents_src = BuiltinSurface(source='earth', name='Continents')\n",
      "continents_src.data_source.on_ratio = 1  # detail level\n",
      "continents_src.data_source.radius = r\n",
      "continents = mlab.pipeline.surface(continents_src, color=(0, 0, 0))"
     ],
     "language": "python",
     "metadata": {},
     "outputs": [],
     "prompt_number": 39
    },
    {
     "cell_type": "code",
     "collapsed": false,
     "input": [
      "# Equator and tropics\n",
      "\n",
      "theta = np.linspace(0, 2*np.pi, 100)\n",
      "for angle in (-np.pi/6, 0, np.pi/6):\n",
      "    x = np.cos(theta)*np.cos(angle) * r\n",
      "    y = np.sin(theta)*np.cos(angle) * r\n",
      "    z = np.ones_like(theta)*np.sin(angle) * r\n",
      "\n",
      "    mlab.plot3d(x, y, z, color=(1, 1, 1),\n",
      "                opacity=0.3, tube_radius=None)"
     ],
     "language": "python",
     "metadata": {},
     "outputs": [],
     "prompt_number": 40
    },
    {
     "cell_type": "code",
     "collapsed": false,
     "input": [
      "position = compute_satellite_positions(*start_date)\n",
      "\n",
      "print 'The first satellite is at xyz:\\n', position[:,0]"
     ],
     "language": "python",
     "metadata": {},
     "outputs": [
      {
       "output_type": "stream",
       "stream": "stdout",
       "text": [
        "The first satellite is at xyz:\n",
        "[-5569.54757854 -4810.69693252  -166.61964478]\n"
       ]
      }
     ],
     "prompt_number": 41
    },
    {
     "cell_type": "code",
     "collapsed": false,
     "input": [
      "position.shape"
     ],
     "language": "python",
     "metadata": {},
     "outputs": [
      {
       "output_type": "pyout",
       "prompt_number": 42,
       "text": [
        "(3, 146)"
       ]
      }
     ],
     "prompt_number": 42
    },
    {
     "cell_type": "code",
     "collapsed": false,
     "input": [
      "points = mlab.points3d(position[0], position[1], position[2],\n",
      "    [0.01] * position.shape[1], mode='sphere', color=(1.0, 1.0, 0.8),\n",
      "    scale_mode='scalar', scale_factor=30000.0)"
     ],
     "language": "python",
     "metadata": {},
     "outputs": [],
     "prompt_number": 43
    },
    {
     "cell_type": "code",
     "collapsed": false,
     "input": [
      "np.array([[1.,2,3], [4,5,6]]) / [10, 100, 1000]"
     ],
     "language": "python",
     "metadata": {},
     "outputs": [
      {
       "output_type": "pyout",
       "prompt_number": 44,
       "text": [
        "array([[ 0.1  ,  0.02 ,  0.003],\n",
        "       [ 0.4  ,  0.05 ,  0.006]])"
       ]
      }
     ],
     "prompt_number": 44
    },
    {
     "cell_type": "code",
     "collapsed": false,
     "input": [
      "# Compute `distance` of each satellite from the center of the earth.\n",
      "\n",
      "distance = np.sqrt((position * position).sum(axis=0))\n",
      "stalk_base = position / distance * r\n",
      "\n",
      "print 'The first satellite is', distance[0], 'km from the geocenter'\n",
      "print 'The base of its stalk will be at:'\n",
      "print stalk_base[:,0]"
     ],
     "language": "python",
     "metadata": {},
     "outputs": [
      {
       "output_type": "stream",
       "stream": "stdout",
       "text": [
        "The first satellite is 7361.41476296 km from the geocenter\n",
        "The base of its stalk will be at:\n",
        "[-4825.61131097 -4168.12195315  -144.36390589]\n"
       ]
      }
     ],
     "prompt_number": 45
    },
    {
     "cell_type": "code",
     "collapsed": false,
     "input": [
      "src = mlab.pipeline.scalar_scatter(\n",
      "    np.hstack([stalk_base[0], position[0]]),\n",
      "    np.hstack([stalk_base[1], position[1]]),\n",
      "    np.hstack([stalk_base[2], position[2]]),\n",
      "    )\n",
      "\n",
      "src.mlab_source.dataset.lines = np.array([\n",
      "    [i, i + len(satellites)] for i in range(len(satellites))\n",
      "    ])\n",
      "\n",
      "# The stripper filter cleans up connected lines\n",
      "lines = mlab.pipeline.stripper(src)\n",
      "\n",
      "# Finally, display the set of lines\n",
      "mlab.pipeline.surface(lines, color=yellow, line_width=3, opacity=.4)"
     ],
     "language": "python",
     "metadata": {},
     "outputs": [
      {
       "output_type": "pyout",
       "prompt_number": 50,
       "text": [
        "<mayavi.modules.surface.Surface at 0xa3d3938c>"
       ]
      }
     ],
     "prompt_number": 50
    },
    {
     "cell_type": "code",
     "collapsed": false,
     "input": [
      "import wx\n",
      "\n",
      "class Animator(wx.Timer):\n",
      "    i = 0\n",
      "    iterations = 6\n",
      "\n",
      "    def Notify(self):\n",
      "        if self.i > self.iterations:\n",
      "            return\n",
      "\n",
      "        self.i += 1\n",
      "\n",
      "        position = compute_satellite_positions(2013, 1, 5, 12, 0, self.i * 6)\n",
      "\n",
      "        x = position[close_enough,0]\n",
      "        y = position[close_enough,1]\n",
      "        z = position[close_enough,2]\n",
      "        points.mlab_source.set(x=x, y=y, z=z)\n",
      "    \n",
      "        self.Start(1, oneShot=True)"
     ],
     "language": "python",
     "metadata": {},
     "outputs": [],
     "prompt_number": 47
    },
    {
     "cell_type": "code",
     "collapsed": false,
     "input": [
      "timer = Animator()\n",
      "timer.Start(500, oneShot=True)"
     ],
     "language": "python",
     "metadata": {},
     "outputs": [
      {
       "output_type": "pyout",
       "prompt_number": 49,
       "text": [
        "True"
       ]
      }
     ],
     "prompt_number": 49
    },
    {
     "cell_type": "code",
     "collapsed": false,
     "input": [],
     "language": "python",
     "metadata": {},
     "outputs": []
    }
   ],
   "metadata": {}
  }
 ]
}