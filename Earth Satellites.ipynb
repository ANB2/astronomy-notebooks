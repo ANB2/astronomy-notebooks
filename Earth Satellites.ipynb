{
 "metadata": {
  "name": "Earth Satellites"
 },
 "nbformat": 3,
 "nbformat_minor": 0,
 "worksheets": [
  {
   "cells": [
    {
     "cell_type": "code",
     "collapsed": false,
     "input": [
      "import numpy as np\n",
      "from mayavi import mlab\n",
      "from sgp4.earth_gravity import wgs72\n",
      "from sgp4.io import twoline2rv\n",
      "\n",
      "ocean_blue = (0.67, 0.77, 0.93)"
     ],
     "language": "python",
     "metadata": {},
     "outputs": []
    },
    {
     "cell_type": "code",
     "collapsed": false,
     "input": [
      "mlab.clf()"
     ],
     "language": "python",
     "metadata": {},
     "outputs": []
    },
    {
     "cell_type": "code",
     "collapsed": false,
     "input": [
      "sphere = mlab.points3d(0, 0, 0, name='Globe',\n",
      "    scale_mode='none', scale_factor=2.0,\n",
      "    color=ocean_blue, resolution=50,\n",
      "    )\n",
      "\n",
      "sphere.actor.property.specular = 0.20\n",
      "sphere.actor.property.specular_power = 10"
     ],
     "language": "python",
     "metadata": {},
     "outputs": []
    },
    {
     "cell_type": "code",
     "collapsed": false,
     "input": [
      "from mayavi.sources.builtin_surface import BuiltinSurface\n",
      "\n",
      "continents_src = BuiltinSurface(source='earth', name='Continents')\n",
      "continents_src.data_source.on_ratio = 1  # detail level\n",
      "continents = mlab.pipeline.surface(continents_src, color=(0, 0, 0))"
     ],
     "language": "python",
     "metadata": {},
     "outputs": []
    },
    {
     "cell_type": "code",
     "collapsed": false,
     "input": [
      "# Equator and tropics\n",
      "\n",
      "theta = np.linspace(0, 2*np.pi, 100)\n",
      "for angle in (-np.pi/6, 0, np.pi/6):\n",
      "    x = np.cos(theta)*np.cos(angle)\n",
      "    y = np.sin(theta)*np.cos(angle)\n",
      "    z = np.ones_like(theta)*np.sin(angle)\n",
      "\n",
      "    mlab.plot3d(x, y, z, color=(1, 1, 1),\n",
      "                opacity=0.3, tube_radius=None)"
     ],
     "language": "python",
     "metadata": {},
     "outputs": []
    },
    {
     "cell_type": "code",
     "collapsed": false,
     "input": [
      "satellites = []\n",
      "\n",
      "with open('data/visual.txt') as lines:\n",
      "    for name in lines:\n",
      "        line1 = next(lines)\n",
      "        line2 = next(lines)\n",
      "        satellite = twoline2rv(line1, line2, wgs72)\n",
      "        satellites.append(satellite)"
     ],
     "language": "python",
     "metadata": {},
     "outputs": []
    },
    {
     "cell_type": "code",
     "collapsed": false,
     "input": [
      "poslist = []\n",
      "for satellite in satellites:\n",
      "    pos, vel = satellite.propagate(2000, 6, 29, 12, 50, 19)\n",
      "    if pos is not None:\n",
      "        poslist.append(pos)\n",
      "        \n",
      "position = np.array(poslist)\n",
      "\n",
      "print position[0]"
     ],
     "language": "python",
     "metadata": {},
     "outputs": []
    },
    {
     "cell_type": "code",
     "collapsed": false,
     "input": [
      "position.dot(position)"
     ],
     "language": "python",
     "metadata": {},
     "outputs": []
    },
    {
     "cell_type": "code",
     "collapsed": false,
     "input": [
      "\n",
      "ranges = np.sqrt(position[0].dot(x))"
     ],
     "language": "python",
     "metadata": {},
     "outputs": []
    },
    {
     "cell_type": "code",
     "collapsed": false,
     "input": [
      "x = positions[:,0]\n",
      "y = positions[:,1]\n",
      "z = positions[:,2]"
     ],
     "language": "python",
     "metadata": {},
     "outputs": []
    },
    {
     "cell_type": "code",
     "collapsed": false,
     "input": [
      "print x.max()\n",
      "print satellites[134].satnum\n",
      "print y.ptp()\n",
      "print z.ptp()"
     ],
     "language": "python",
     "metadata": {},
     "outputs": []
    },
    {
     "cell_type": "code",
     "collapsed": false,
     "input": [
      "sphere = mlab.points3d(x, y, z, [1000.0] * len(x),\n",
      "    mode='cube', color=(1.0, 1.0, 1.0))"
     ],
     "language": "python",
     "metadata": {},
     "outputs": []
    },
    {
     "cell_type": "code",
     "collapsed": false,
     "input": [
      "mlab.clf()"
     ],
     "language": "python",
     "metadata": {},
     "outputs": []
    },
    {
     "cell_type": "code",
     "collapsed": false,
     "input": [
      "mlab.view(63.4, 73.8, 4, [-0.05, 0, 0])"
     ],
     "language": "python",
     "metadata": {},
     "outputs": []
    }
   ],
   "metadata": {}
  }
 ]
}