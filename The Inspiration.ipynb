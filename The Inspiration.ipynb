{
 "metadata": {
  "name": "The Inspiration"
 },
 "nbformat": 3,
 "nbformat_minor": 0,
 "worksheets": [
  {
   "cells": [
    {
     "cell_type": "markdown",
     "metadata": {},
     "source": [
      "My first experiment with modern Python scientific plotting tools and astronomy,\n",
      "that inspired all of the rest of this activity,\n",
      "was showing the Atlanta Python Meetup\n",
      "how to illustrate what it means\n",
      "that Mars has a very *elliptical* orbit."
     ]
    },
    {
     "cell_type": "code",
     "collapsed": false,
     "input": [
      "%pylab inline"
     ],
     "language": "python",
     "metadata": {},
     "outputs": []
    },
    {
     "cell_type": "code",
     "collapsed": false,
     "input": [
      "import de405\n",
      "import jplephem\n",
      "from sgp4.ext import jday\n",
      "\n",
      "eph = jplephem.Ephemeris(de405)"
     ],
     "language": "python",
     "metadata": {},
     "outputs": []
    },
    {
     "cell_type": "code",
     "collapsed": false,
     "input": [
      "j0 = jday(2013, 1, 1, 0, 0, 0)\n",
      "\n",
      "print 'The Julian Day of Jan 1 2013:', j0"
     ],
     "language": "python",
     "metadata": {},
     "outputs": []
    },
    {
     "cell_type": "code",
     "collapsed": false,
     "input": [
      "twoyears = np.arange(j0, j0 + 365.0 * 2.0, 1.0)\n",
      "\n",
      "print 'Our two years range from', twoyears[0], 'to', twoyears[-1]"
     ],
     "language": "python",
     "metadata": {},
     "outputs": []
    },
    {
     "cell_type": "code",
     "collapsed": false,
     "input": [
      "pv = np.array([ eph.compute('mars', jd) for jd in twoyears ]).T\n",
      "\n",
      "print 'Two years of Mars position/velocity has shape', pv.shape"
     ],
     "language": "python",
     "metadata": {},
     "outputs": []
    },
    {
     "cell_type": "markdown",
     "metadata": {},
     "source": [
      "## A simple two-dimensional plot\n",
      "\n",
      "Since the Mars positions are given as `(x,y,z)` in meters,\n",
      "the most obvious sort of plot to produce is a rectangular plot."
     ]
    },
    {
     "cell_type": "code",
     "collapsed": false,
     "input": [
      "axis([-3e8, 3e8, -3e8, 3e8])\n",
      "axes().set_aspect('equal')\n",
      "plot(pv[0], pv[1])"
     ],
     "language": "python",
     "metadata": {},
     "outputs": []
    },
    {
     "cell_type": "markdown",
     "metadata": {},
     "source": [
      "## Polar plotting\n",
      "\n",
      "Since the above plot neither clearly marks the solar system center\n",
      "nor gives us a good feel\n",
      "for how much the orbit of Mars deviates from a circle,\n",
      "we will re-do the plot as a polar plot."
     ]
    },
    {
     "cell_type": "code",
     "collapsed": false,
     "input": [
      "def length(x, y, z):\n",
      "    return sqrt(x*x + y*y + z*z)\n",
      "\n",
      "a = 3\n",
      "b = 4\n",
      "c = 0\n",
      "\n",
      "print 'The hypotenuse of a 3-4 triangle is', length(a, b, c)"
     ],
     "language": "python",
     "metadata": {},
     "outputs": []
    },
    {
     "cell_type": "code",
     "collapsed": false,
     "input": [
      "a = array([6, 0, 35, 13])\n",
      "b = array([8, 60, 0, 84])\n",
      "c = array([0, 11, 12, 0])\n",
      "\n",
      "print 'Four more hypotenuses:', length(a, b, c)"
     ],
     "language": "python",
     "metadata": {},
     "outputs": []
    },
    {
     "cell_type": "code",
     "collapsed": false,
     "input": [
      "x = pv[0]\n",
      "y = pv[1]\n",
      "z = pv[2]\n",
      "\n",
      "theta = np.arctan2(x, y)\n",
      "r = length(x, y, z)\n",
      "\n",
      "print theta.shape\n",
      "print r.shape"
     ],
     "language": "python",
     "metadata": {},
     "outputs": []
    },
    {
     "cell_type": "code",
     "collapsed": false,
     "input": [
      "# We are now ready to see how lopsided\n",
      "# the elliptical orbit of Mars is!\n",
      "\n",
      "polar(theta, r)"
     ],
     "language": "python",
     "metadata": {},
     "outputs": []
    },
    {
     "cell_type": "markdown",
     "metadata": {},
     "source": [
      "## All four inner planets\n",
      "\n",
      "Python is a general-purpose programming language\n",
      "that lets us package up our logic inside of first-class functions."
     ]
    },
    {
     "cell_type": "code",
     "collapsed": false,
     "input": [
      "def plot_planet(name, dates):\n",
      "    pv = np.array([ eph.compute(name, jd) for jd in dates ]).T\n",
      "    x = pv[0]\n",
      "    y = pv[1]\n",
      "    z = pv[2]\n",
      "    theta = np.arctan2(x, y)\n",
      "    r = length(x, y, z)\n",
      "    polar(theta, r)"
     ],
     "language": "python",
     "metadata": {},
     "outputs": []
    },
    {
     "cell_type": "code",
     "collapsed": false,
     "input": [
      "for name in 'mercury', 'venus', 'earthmoon', 'mars':\n",
      "    plot_planet(name, twoyears)"
     ],
     "language": "python",
     "metadata": {},
     "outputs": []
    },
    {
     "cell_type": "code",
     "collapsed": false,
     "input": [],
     "language": "python",
     "metadata": {},
     "outputs": []
    }
   ],
   "metadata": {}
  }
 ]
}