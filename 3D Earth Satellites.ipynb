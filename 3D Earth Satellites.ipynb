{
 "metadata": {
  "name": "3D Earth Satellites"
 },
 "nbformat": 3,
 "nbformat_minor": 0,
 "worksheets": [
  {
   "cells": [
    {
     "cell_type": "code",
     "collapsed": false,
     "input": [
      "%pylab wx"
     ],
     "language": "python",
     "metadata": {},
     "outputs": []
    },
    {
     "cell_type": "code",
     "collapsed": false,
     "input": [
      "import numpy as np\n",
      "from mayavi import mlab\n",
      "\n",
      "ocean_blue = (0.4, 0.5, 1.0)\n",
      "yellow = (1.0, 1.0, 0.0)\n",
      "\n",
      "start_date = (2013, 1, 11, 15, 45, 0)"
     ],
     "language": "python",
     "metadata": {},
     "outputs": []
    },
    {
     "cell_type": "markdown",
     "metadata": {},
     "source": [
      "## Load earth satellite database\n",
      "\n",
      "We use the `sgp4` Python library\n",
      "to interpret CelesTrak two-line orbital element entries from a text file."
     ]
    },
    {
     "cell_type": "code",
     "collapsed": false,
     "input": [
      "from sgp4.earth_gravity import wgs72\n",
      "from sgp4.io import twoline2rv\n",
      "\n",
      "r = wgs72.radiusearthkm\n",
      "satellites = []\n",
      "\n",
      "with open('data/visual.txt') as lines:\n",
      "    for name in lines:\n",
      "        line1 = next(lines)\n",
      "        line2 = next(lines)\n",
      "        satellite = twoline2rv(line1, line2, wgs72)\n",
      "        satellites.append(satellite)\n",
      "\n",
      "print 'Successfully loaded', len(satellites), 'satellites'"
     ],
     "language": "python",
     "metadata": {},
     "outputs": []
    },
    {
     "cell_type": "code",
     "collapsed": false,
     "input": [
      "def is_valid(satellite):\n",
      "    pos, vel = satellite.propagate(*start_date)\n",
      "    return pos is not None\n",
      "\n",
      "satellites = [ s for s in satellites if is_valid(s) ]\n",
      "\n",
      "print 'Kept', len(satellites), 'valid satellites'"
     ],
     "language": "python",
     "metadata": {},
     "outputs": []
    },
    {
     "cell_type": "code",
     "collapsed": false,
     "input": [
      "def compute_positions(*args):\n",
      "    poslist = []\n",
      "    for satellite in list(satellites):\n",
      "        pos, vel = satellite.propagate(*args)\n",
      "        poslist.append(pos)\n",
      "\n",
      "    return np.array(poslist).T"
     ],
     "language": "python",
     "metadata": {},
     "outputs": []
    },
    {
     "cell_type": "code",
     "collapsed": false,
     "input": [
      "position = compute_positions(*start_date)\n",
      "\n",
      "print 'The first satellite is at xyz:\\n', position[:,0]"
     ],
     "language": "python",
     "metadata": {},
     "outputs": []
    },
    {
     "cell_type": "code",
     "collapsed": false,
     "input": [
      "position.shape"
     ],
     "language": "python",
     "metadata": {},
     "outputs": []
    },
    {
     "cell_type": "code",
     "collapsed": false,
     "input": [
      "position[:,:2]"
     ],
     "language": "python",
     "metadata": {},
     "outputs": []
    },
    {
     "cell_type": "markdown",
     "metadata": {},
     "source": [
      "## A simple animation\n",
      "\n",
      "The simplest possible satellite display\n",
      "uses a single `mlab.points3d` call\n",
      "to set up a graphics pipeline."
     ]
    },
    {
     "cell_type": "code",
     "collapsed": false,
     "input": [
      "mlab.clf()"
     ],
     "language": "python",
     "metadata": {},
     "outputs": []
    },
    {
     "cell_type": "code",
     "collapsed": false,
     "input": [
      "from mayavi.sources.builtin_surface import BuiltinSurface\n",
      "\n",
      "def draw_globe():\n",
      "    sphere = mlab.points3d(0, 0, 0, name='Globe',\n",
      "      scale_mode='none', scale_factor=r * 2.0,\n",
      "      color=ocean_blue, resolution=50)\n",
      "\n",
      "    sphere.actor.property.specular = 0.20\n",
      "    sphere.actor.property.specular_power = 10\n",
      "\n",
      "    continents_src = BuiltinSurface(\n",
      "        source='earth', name='Continents')\n",
      "    continents_src.data_source.on_ratio = 1  # detail level\n",
      "    continents_src.data_source.radius = r\n",
      "    continents = mlab.pipeline.surface(\n",
      "        continents_src, color=(0, 0, 0))"
     ],
     "language": "python",
     "metadata": {},
     "outputs": []
    },
    {
     "cell_type": "code",
     "collapsed": false,
     "input": [
      "draw_globe()"
     ],
     "language": "python",
     "metadata": {},
     "outputs": []
    },
    {
     "cell_type": "code",
     "collapsed": false,
     "input": [
      "points_glyph = mlab.points3d(\n",
      "    position[0], position[1], position[2],\n",
      "    [0.01] * position.shape[1],\n",
      "    mode='sphere', color=(1.0, 1.0, 0.8),\n",
      "    scale_mode='scalar', scale_factor=30000.0)"
     ],
     "language": "python",
     "metadata": {},
     "outputs": []
    },
    {
     "cell_type": "code",
     "collapsed": false,
     "input": [
      "for i in range(0, 120):\n",
      "    p = compute_positions(2013, 1, 11, 15, 45, i * 6)\n",
      "    points_glyph.mlab_source.set(x=p[0], y=p[1], z=p[2])"
     ],
     "language": "python",
     "metadata": {},
     "outputs": []
    },
    {
     "cell_type": "markdown",
     "metadata": {},
     "source": [
      "## A more sophisticated animation\n",
      "\n",
      "While the code above used a single `points3d()` call to draw the satellites, the code below sets up an explicit rendering pipeline so that the input data \u2014 the satellite positions \u2014 can drive three different renderings: the dots, the stalks, and the range circles."
     ]
    },
    {
     "cell_type": "code",
     "collapsed": false,
     "input": [
      "mlab.clf()"
     ],
     "language": "python",
     "metadata": {},
     "outputs": []
    },
    {
     "cell_type": "code",
     "collapsed": false,
     "input": [],
     "language": "python",
     "metadata": {},
     "outputs": []
    },
    {
     "cell_type": "code",
     "collapsed": false,
     "input": [
      "# Compute `distance` of each satellite from the center of the earth.\n",
      "\n",
      "distance = np.sqrt((position * position).sum(axis=0))\n",
      "stalk_base = position / distance * r\n",
      "\n",
      "print 'The first satellite is', distance[0], 'km from the geocenter'\n",
      "print 'The base of its stalk will be at:'\n",
      "print stalk_base[:,0]"
     ],
     "language": "python",
     "metadata": {},
     "outputs": []
    },
    {
     "cell_type": "code",
     "collapsed": false,
     "input": [
      "src = mlab.pipeline.scalar_scatter(\n",
      "    np.hstack([stalk_base[0], position[0]]),\n",
      "    np.hstack([stalk_base[1], position[1]]),\n",
      "    np.hstack([stalk_base[2], position[2]]),\n",
      "    )\n",
      "\n",
      "src.mlab_source.dataset.lines = np.array([\n",
      "    [i, i + len(satellites)] for i in range(len(satellites))\n",
      "    ])\n",
      "\n",
      "# The stripper filter cleans up connected lines\n",
      "lines = mlab.pipeline.stripper(src)\n",
      "\n",
      "# Finally, display the set of lines\n",
      "mlab.pipeline.surface(lines, color=yellow, line_width=3, opacity=.4)"
     ],
     "language": "python",
     "metadata": {},
     "outputs": []
    },
    {
     "cell_type": "code",
     "collapsed": false,
     "input": [],
     "language": "python",
     "metadata": {},
     "outputs": []
    }
   ],
   "metadata": {}
  }
 ]
}