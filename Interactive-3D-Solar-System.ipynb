{
 "metadata": {
  "name": ""
 },
 "nbformat": 3,
 "nbformat_minor": 0,
 "worksheets": [
  {
   "cells": [
    {
     "cell_type": "code",
     "collapsed": false,
     "input": [
      "take_screenshots = True"
     ],
     "language": "python",
     "metadata": {},
     "outputs": []
    },
    {
     "cell_type": "code",
     "collapsed": false,
     "input": [
      "%pylab wx\n",
      "if take_screenshots:\n",
      "    %pylab inline"
     ],
     "language": "python",
     "metadata": {},
     "outputs": []
    },
    {
     "cell_type": "code",
     "collapsed": false,
     "input": [
      "from mayavi import mlab\n",
      "from mayavi.sources.builtin_surface import BuiltinSurface\n",
      "from sgp4.earth_gravity import wgs72\n",
      "from skyfield.constants import AU_KM\n",
      "from skyfield.api import JulianDate, nine_planets, earth\n",
      "\n",
      "pylab.rcParams['figure.figsize'] = (8.0, 8.0)\n",
      "\n",
      "planet_color = (0.7, 1.0, 1.0)\n",
      "yellow = (1.0, 1.0, 0.0)"
     ],
     "language": "python",
     "metadata": {},
     "outputs": []
    },
    {
     "cell_type": "code",
     "collapsed": false,
     "input": [
      "# One Earth year\n",
      "\n",
      "jd = JulianDate(utc=(1980, 6, arange(1, 366.3, 0.25), 0, 0, 0))\n",
      "print 'Start:', jd.tt[0]\n",
      "print 'End:  ', jd.tt[-1]"
     ],
     "language": "python",
     "metadata": {},
     "outputs": []
    },
    {
     "cell_type": "code",
     "collapsed": false,
     "input": [
      "def reposition_camera(distance=10.0, focalpoint=(0.0, 0.0, 0.0)):\n",
      "    \"\"\"Move the camera above the solar system.\"\"\"\n",
      "    mlab.view(azimuth=90.0, elevation=360.0 - 23.4,\n",
      "              distance=distance, focalpoint=focalpoint)\n",
      "    if take_screenshots:\n",
      "        imshow(mlab.screenshot(antialiased=True))\n",
      "        axis('off')"
     ],
     "language": "python",
     "metadata": {},
     "outputs": []
    },
    {
     "cell_type": "code",
     "collapsed": false,
     "input": [
      "# Get ready to draw!\n",
      "\n",
      "mlab.clf()"
     ],
     "language": "python",
     "metadata": {},
     "outputs": []
    },
    {
     "cell_type": "code",
     "collapsed": false,
     "input": [
      "for planet in nine_planets:\n",
      "    x, y, z = planet(jd).position.AU\n",
      "    mlab.plot3d(x, y, z, color=planet_color,\n",
      "                tube_radius=None, line_width=2.0)\n",
      "    print planet.jplname, '- plotted', len(x), 'points'\n",
      "\n",
      "reposition_camera()"
     ],
     "language": "python",
     "metadata": {},
     "outputs": []
    },
    {
     "cell_type": "code",
     "collapsed": false,
     "input": [
      "# Draw a sphere for the Sun\n",
      "\n",
      "sun_r = 695500.0 / AU_KM  # km\n",
      "sphere = mlab.points3d(0, 0, 0, name='Sun',\n",
      "      scale_mode='none', scale_factor=sun_r * 2.0,\n",
      "      color=yellow, resolution=50)\n",
      "\n",
      "reposition_camera(distance=1.3)"
     ],
     "language": "python",
     "metadata": {},
     "outputs": []
    },
    {
     "cell_type": "code",
     "collapsed": false,
     "input": [
      "# Add the Earth\n",
      "\n",
      "x, y, z = earth(JulianDate(tt=jd.tt[-1])).position.AU\n",
      "r = wgs72.radiusearthkm / AU_KM\n",
      "ocean_blue = (0.4, 0.5, 1.0)\n",
      "sphere = mlab.points3d(x, y, z, name='Globe',\n",
      "    scale_mode='none', scale_factor=r * 2.0,\n",
      "    color=ocean_blue, resolution=50)\n",
      "#sphere.actor.property.specular = 0.20\n",
      "#sphere.actor.property.specular_power = 10\n",
      "\n",
      "reposition_camera(distance=0.02, focalpoint=(x, y, z))"
     ],
     "language": "python",
     "metadata": {},
     "outputs": []
    },
    {
     "cell_type": "code",
     "collapsed": false,
     "input": [],
     "language": "python",
     "metadata": {},
     "outputs": []
    }
   ],
   "metadata": {}
  }
 ]
}